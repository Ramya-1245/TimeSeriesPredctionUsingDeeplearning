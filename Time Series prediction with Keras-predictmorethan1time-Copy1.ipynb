{
 "cells": [
  {
   "cell_type": "code",
   "execution_count": 2,
   "metadata": {
    "collapsed": false
   },
   "outputs": [
    {
     "name": "stderr",
     "output_type": "stream",
     "text": [
      "Using TensorFlow backend.\n"
     ]
    }
   ],
   "source": [
    "import numpy \n",
    "import matplotlib.pyplot as plt\n",
    "import pandas \n",
    "from keras.models import Sequential\n",
    "from keras.layers import Dense"
   ]
  },
  {
   "cell_type": "markdown",
   "metadata": {
    "collapsed": false
   },
   "source": [
    "'''import pandas\n",
    "import matplotlib.pyplot as plt\n",
    "dataset = pandas.read_csv('/home/sherlock/Documents/testlib/international-airline-passengers.csv', usecols=[1], engine='python', skipfooter=3)\n",
    "plt.plot(dataset)\n",
    "plt.show()'''"
   ]
  },
  {
   "cell_type": "code",
   "execution_count": 3,
   "metadata": {
    "collapsed": false
   },
   "outputs": [],
   "source": [
    "# fix random seed for reproducibility\n",
    "numpy.random.seed(7)"
   ]
  },
  {
   "cell_type": "code",
   "execution_count": 4,
   "metadata": {
    "collapsed": true
   },
   "outputs": [],
   "source": [
    "datapath = '/home/sherlock/Documents/testlib/international-airline-passengers.csv'"
   ]
  },
  {
   "cell_type": "code",
   "execution_count": 5,
   "metadata": {
    "collapsed": false
   },
   "outputs": [],
   "source": [
    "# load the dataset\n",
    "dataframe = pandas.read_csv(datapath, usecols=[1], engine='python', skipfooter=3)\n",
    "dataset = dataframe.values\n",
    "dataset = dataset.astype('float32')"
   ]
  },
  {
   "cell_type": "code",
   "execution_count": 6,
   "metadata": {
    "collapsed": false,
    "scrolled": false
   },
   "outputs": [
    {
     "data": {
      "text/plain": [
       "array([[ 112.],\n",
       "       [ 118.],\n",
       "       [ 132.],\n",
       "       [ 129.],\n",
       "       [ 121.]], dtype=float32)"
      ]
     },
     "execution_count": 6,
     "metadata": {},
     "output_type": "execute_result"
    }
   ],
   "source": [
    "dataset[0:5]"
   ]
  },
  {
   "cell_type": "code",
   "execution_count": 7,
   "metadata": {
    "collapsed": false
   },
   "outputs": [
    {
     "data": {
      "text/plain": [
       "(144, 1)"
      ]
     },
     "execution_count": 7,
     "metadata": {},
     "output_type": "execute_result"
    }
   ],
   "source": [
    "dataset.shape"
   ]
  },
  {
   "cell_type": "code",
   "execution_count": 8,
   "metadata": {
    "collapsed": false
   },
   "outputs": [
    {
     "name": "stdout",
     "output_type": "stream",
     "text": [
      "(96, 48)\n"
     ]
    }
   ],
   "source": [
    "# split into train and test sets\n",
    "train_size = int(len(dataset) * 0.67)\n",
    "test_size = len(dataset) - train_size\n",
    "train, test = dataset[0:train_size,:], dataset[train_size:len(dataset),:]\n",
    "print(len(train), len(test))"
   ]
  },
  {
   "cell_type": "code",
   "execution_count": 9,
   "metadata": {
    "collapsed": false
   },
   "outputs": [
    {
     "data": {
      "text/plain": [
       "array([ 118.,  132.], dtype=float32)"
      ]
     },
     "execution_count": 9,
     "metadata": {},
     "output_type": "execute_result"
    }
   ],
   "source": [
    "dataset[1:3,0]"
   ]
  },
  {
   "cell_type": "code",
   "execution_count": 10,
   "metadata": {
    "collapsed": false
   },
   "outputs": [],
   "source": [
    "# convert an array of values into a dataset matrix\n",
    "def create_dataset(dataset, look_back=1,look_forward=1):\n",
    "    dataX, dataY = [], []\n",
    "    for i in range(len(dataset)-look_back-1):\n",
    "        a = dataset[i:(i+look_back), 0]\n",
    "        b = dataset[(i+look_back):(i+look_back+look_forward),0]\n",
    "        dataX.append(a)\n",
    "        dataY.append(b)\n",
    "    return numpy.array(dataX), numpy.array(dataY)"
   ]
  },
  {
   "cell_type": "code",
   "execution_count": 11,
   "metadata": {
    "collapsed": false
   },
   "outputs": [],
   "source": [
    "# reshape into X=t and Y=t+1\n",
    "look_back = 4\n",
    "look_forward =2\n",
    "trainX, trainY = create_dataset(train, look_back,look_forward)\n",
    "testX, testY = create_dataset(test, look_back,look_forward)"
   ]
  },
  {
   "cell_type": "code",
   "execution_count": 12,
   "metadata": {
    "collapsed": false
   },
   "outputs": [
    {
     "data": {
      "text/plain": [
       "(91, 4)"
      ]
     },
     "execution_count": 12,
     "metadata": {},
     "output_type": "execute_result"
    }
   ],
   "source": [
    "trainX.shape"
   ]
  },
  {
   "cell_type": "code",
   "execution_count": 13,
   "metadata": {
    "collapsed": false,
    "scrolled": true
   },
   "outputs": [
    {
     "name": "stdout",
     "output_type": "stream",
     "text": [
      "Epoch 1/200\n",
      "0s - loss: 2773.8548\n",
      "Epoch 2/200\n",
      "0s - loss: 1621.8439\n",
      "Epoch 3/200\n",
      "0s - loss: 1594.2938\n",
      "Epoch 4/200\n",
      "0s - loss: 1551.1460\n",
      "Epoch 5/200\n",
      "0s - loss: 1519.5637\n",
      "Epoch 6/200\n",
      "0s - loss: 1505.7147\n",
      "Epoch 7/200\n",
      "0s - loss: 1509.1886\n",
      "Epoch 8/200\n",
      "0s - loss: 1462.4188\n",
      "Epoch 9/200\n",
      "0s - loss: 1443.2839\n",
      "Epoch 10/200\n",
      "0s - loss: 1429.7359\n",
      "Epoch 11/200\n",
      "0s - loss: 1425.7324\n",
      "Epoch 12/200\n",
      "0s - loss: 1385.9658\n",
      "Epoch 13/200\n",
      "0s - loss: 1372.0784\n",
      "Epoch 14/200\n",
      "0s - loss: 1354.6650\n",
      "Epoch 15/200\n",
      "0s - loss: 1352.1717\n",
      "Epoch 16/200\n",
      "0s - loss: 1358.8807\n",
      "Epoch 17/200\n",
      "0s - loss: 1306.4109\n",
      "Epoch 18/200\n",
      "0s - loss: 1298.7030\n",
      "Epoch 19/200\n",
      "0s - loss: 1271.7739\n",
      "Epoch 20/200\n",
      "0s - loss: 1278.1334\n",
      "Epoch 21/200\n",
      "0s - loss: 1250.4457\n",
      "Epoch 22/200\n",
      "0s - loss: 1260.8782\n",
      "Epoch 23/200\n",
      "0s - loss: 1275.0860\n",
      "Epoch 24/200\n",
      "0s - loss: 1212.6064\n",
      "Epoch 25/200\n",
      "0s - loss: 1258.2755\n",
      "Epoch 26/200\n",
      "0s - loss: 1202.2209\n",
      "Epoch 27/200\n",
      "0s - loss: 1194.5510\n",
      "Epoch 28/200\n",
      "0s - loss: 1223.1426\n",
      "Epoch 29/200\n",
      "0s - loss: 1164.7754\n",
      "Epoch 30/200\n",
      "0s - loss: 1163.3157\n",
      "Epoch 31/200\n",
      "0s - loss: 1149.8668\n",
      "Epoch 32/200\n",
      "0s - loss: 1148.9360\n",
      "Epoch 33/200\n",
      "0s - loss: 1140.9697\n",
      "Epoch 34/200\n",
      "0s - loss: 1169.7623\n",
      "Epoch 35/200\n",
      "0s - loss: 1125.1842\n",
      "Epoch 36/200\n",
      "0s - loss: 1112.6006\n",
      "Epoch 37/200\n",
      "0s - loss: 1131.5775\n",
      "Epoch 38/200\n",
      "0s - loss: 1100.8739\n",
      "Epoch 39/200\n",
      "0s - loss: 1090.5055\n",
      "Epoch 40/200\n",
      "0s - loss: 1090.9304\n",
      "Epoch 41/200\n",
      "0s - loss: 1079.7969\n",
      "Epoch 42/200\n",
      "0s - loss: 1062.7375\n",
      "Epoch 43/200\n",
      "0s - loss: 1075.9022\n",
      "Epoch 44/200\n",
      "0s - loss: 1040.3809\n",
      "Epoch 45/200\n",
      "0s - loss: 1044.3229\n",
      "Epoch 46/200\n",
      "0s - loss: 1072.2829\n",
      "Epoch 47/200\n",
      "0s - loss: 1088.1459\n",
      "Epoch 48/200\n",
      "0s - loss: 1026.8533\n",
      "Epoch 49/200\n",
      "0s - loss: 1031.0600\n",
      "Epoch 50/200\n",
      "0s - loss: 1009.5896\n",
      "Epoch 51/200\n",
      "0s - loss: 1029.5791\n",
      "Epoch 52/200\n",
      "0s - loss: 1013.9228\n",
      "Epoch 53/200\n",
      "0s - loss: 1021.1393\n",
      "Epoch 54/200\n",
      "0s - loss: 990.1852\n",
      "Epoch 55/200\n",
      "0s - loss: 990.8839\n",
      "Epoch 56/200\n",
      "0s - loss: 983.4186\n",
      "Epoch 57/200\n",
      "0s - loss: 1002.6341\n",
      "Epoch 58/200\n",
      "0s - loss: 975.7265\n",
      "Epoch 59/200\n",
      "0s - loss: 974.0814\n",
      "Epoch 60/200\n",
      "0s - loss: 970.5495\n",
      "Epoch 61/200\n",
      "0s - loss: 975.9795\n",
      "Epoch 62/200\n",
      "0s - loss: 1013.1008\n",
      "Epoch 63/200\n",
      "0s - loss: 961.2057\n",
      "Epoch 64/200\n",
      "0s - loss: 1008.5395\n",
      "Epoch 65/200\n",
      "0s - loss: 1016.3177\n",
      "Epoch 66/200\n",
      "0s - loss: 967.3633\n",
      "Epoch 67/200\n",
      "0s - loss: 950.7065\n",
      "Epoch 68/200\n",
      "0s - loss: 1025.9306\n",
      "Epoch 69/200\n",
      "0s - loss: 1004.0374\n",
      "Epoch 70/200\n",
      "0s - loss: 966.0689\n",
      "Epoch 71/200\n",
      "0s - loss: 955.8155\n",
      "Epoch 72/200\n",
      "0s - loss: 939.4587\n",
      "Epoch 73/200\n",
      "0s - loss: 936.9051\n",
      "Epoch 74/200\n",
      "0s - loss: 998.7145\n",
      "Epoch 75/200\n",
      "0s - loss: 929.1777\n",
      "Epoch 76/200\n",
      "0s - loss: 954.0870\n",
      "Epoch 77/200\n",
      "0s - loss: 940.9360\n",
      "Epoch 78/200\n",
      "0s - loss: 926.4952\n",
      "Epoch 79/200\n",
      "0s - loss: 962.3479\n",
      "Epoch 80/200\n",
      "0s - loss: 937.4537\n",
      "Epoch 81/200\n",
      "0s - loss: 991.4131\n",
      "Epoch 82/200\n",
      "0s - loss: 916.4423\n",
      "Epoch 83/200\n",
      "0s - loss: 934.2492\n",
      "Epoch 84/200\n",
      "0s - loss: 908.7920\n",
      "Epoch 85/200\n",
      "0s - loss: 918.7593\n",
      "Epoch 86/200\n",
      "0s - loss: 917.7636\n",
      "Epoch 87/200\n",
      "0s - loss: 935.0550\n",
      "Epoch 88/200\n",
      "0s - loss: 932.4086\n",
      "Epoch 89/200\n",
      "0s - loss: 915.0874\n",
      "Epoch 90/200\n",
      "0s - loss: 910.1392\n",
      "Epoch 91/200\n",
      "0s - loss: 901.1795\n",
      "Epoch 92/200\n",
      "0s - loss: 898.4422\n",
      "Epoch 93/200\n",
      "0s - loss: 943.3338\n",
      "Epoch 94/200\n",
      "0s - loss: 1016.7067\n",
      "Epoch 95/200\n",
      "0s - loss: 989.6519\n",
      "Epoch 96/200\n",
      "0s - loss: 1002.7722\n",
      "Epoch 97/200\n",
      "0s - loss: 937.2478\n",
      "Epoch 98/200\n",
      "0s - loss: 892.6183\n",
      "Epoch 99/200\n",
      "0s - loss: 916.7230\n",
      "Epoch 100/200\n",
      "0s - loss: 892.3110\n",
      "Epoch 101/200\n",
      "0s - loss: 913.0650\n",
      "Epoch 102/200\n",
      "0s - loss: 961.8953\n",
      "Epoch 103/200\n",
      "0s - loss: 903.1672\n",
      "Epoch 104/200\n",
      "0s - loss: 893.5131\n",
      "Epoch 105/200\n",
      "0s - loss: 931.0543\n",
      "Epoch 106/200\n",
      "0s - loss: 931.2370\n",
      "Epoch 107/200\n",
      "0s - loss: 939.2185\n",
      "Epoch 108/200\n",
      "0s - loss: 894.6753\n",
      "Epoch 109/200\n",
      "0s - loss: 950.7308\n",
      "Epoch 110/200\n",
      "0s - loss: 928.6836\n",
      "Epoch 111/200\n",
      "0s - loss: 904.9675\n",
      "Epoch 112/200\n",
      "0s - loss: 910.6620\n",
      "Epoch 113/200\n",
      "0s - loss: 898.1115\n",
      "Epoch 114/200\n",
      "0s - loss: 892.0264\n",
      "Epoch 115/200\n",
      "0s - loss: 878.9126\n",
      "Epoch 116/200\n",
      "0s - loss: 948.7950\n",
      "Epoch 117/200\n",
      "0s - loss: 907.0982\n",
      "Epoch 118/200\n",
      "0s - loss: 971.4942\n",
      "Epoch 119/200\n",
      "0s - loss: 922.6199\n",
      "Epoch 120/200\n",
      "0s - loss: 896.6813\n",
      "Epoch 121/200\n",
      "0s - loss: 905.5752\n",
      "Epoch 122/200\n",
      "0s - loss: 910.7593\n",
      "Epoch 123/200\n",
      "0s - loss: 907.0135\n",
      "Epoch 124/200\n",
      "0s - loss: 951.8782\n",
      "Epoch 125/200\n",
      "0s - loss: 936.1516\n",
      "Epoch 126/200\n",
      "0s - loss: 906.3247\n",
      "Epoch 127/200\n",
      "0s - loss: 911.6746\n",
      "Epoch 128/200\n",
      "0s - loss: 898.2915\n",
      "Epoch 129/200\n",
      "0s - loss: 901.5753\n",
      "Epoch 130/200\n",
      "0s - loss: 935.9728\n",
      "Epoch 131/200\n",
      "0s - loss: 916.3404\n",
      "Epoch 132/200\n",
      "0s - loss: 877.4526\n",
      "Epoch 133/200\n",
      "0s - loss: 916.2027\n",
      "Epoch 134/200\n",
      "0s - loss: 883.0696\n",
      "Epoch 135/200\n",
      "0s - loss: 888.6719\n",
      "Epoch 136/200\n",
      "0s - loss: 882.1206\n",
      "Epoch 137/200\n",
      "0s - loss: 900.8972\n",
      "Epoch 138/200\n",
      "0s - loss: 873.1035\n",
      "Epoch 139/200\n",
      "0s - loss: 908.6072\n",
      "Epoch 140/200\n",
      "0s - loss: 855.4616\n",
      "Epoch 141/200\n",
      "0s - loss: 867.3222\n",
      "Epoch 142/200\n",
      "0s - loss: 888.4395\n",
      "Epoch 143/200\n",
      "0s - loss: 917.6981\n",
      "Epoch 144/200\n",
      "0s - loss: 870.6030\n",
      "Epoch 145/200\n",
      "0s - loss: 868.4006\n",
      "Epoch 146/200\n",
      "0s - loss: 912.1390\n",
      "Epoch 147/200\n",
      "0s - loss: 878.9553\n",
      "Epoch 148/200\n",
      "0s - loss: 901.0572\n",
      "Epoch 149/200\n",
      "0s - loss: 896.3134\n",
      "Epoch 150/200\n",
      "0s - loss: 918.7154\n",
      "Epoch 151/200\n",
      "0s - loss: 878.2996\n",
      "Epoch 152/200\n",
      "0s - loss: 886.5945\n",
      "Epoch 153/200\n",
      "0s - loss: 875.8404\n",
      "Epoch 154/200\n",
      "0s - loss: 917.6866\n",
      "Epoch 155/200\n",
      "0s - loss: 882.0872\n",
      "Epoch 156/200\n",
      "0s - loss: 865.1757\n",
      "Epoch 157/200\n",
      "0s - loss: 882.9816\n",
      "Epoch 158/200\n",
      "0s - loss: 868.7189\n",
      "Epoch 159/200\n",
      "0s - loss: 899.7562\n",
      "Epoch 160/200\n",
      "0s - loss: 909.9524\n",
      "Epoch 161/200\n",
      "0s - loss: 910.6947\n",
      "Epoch 162/200\n",
      "0s - loss: 906.1095\n",
      "Epoch 163/200\n",
      "0s - loss: 893.7737\n",
      "Epoch 164/200\n",
      "0s - loss: 881.7906\n",
      "Epoch 165/200\n",
      "0s - loss: 873.3614\n",
      "Epoch 166/200\n",
      "0s - loss: 884.2509\n",
      "Epoch 167/200\n",
      "0s - loss: 867.8894\n",
      "Epoch 168/200\n",
      "0s - loss: 875.4460\n",
      "Epoch 169/200\n",
      "0s - loss: 909.8170\n",
      "Epoch 170/200\n",
      "0s - loss: 905.6013\n",
      "Epoch 171/200\n",
      "0s - loss: 892.7578\n",
      "Epoch 172/200\n",
      "0s - loss: 874.0965\n",
      "Epoch 173/200\n",
      "0s - loss: 936.5121\n",
      "Epoch 174/200\n",
      "0s - loss: 868.8573\n",
      "Epoch 175/200\n",
      "0s - loss: 891.0594\n",
      "Epoch 176/200\n",
      "0s - loss: 916.5592\n",
      "Epoch 177/200\n",
      "0s - loss: 880.5069\n",
      "Epoch 178/200\n",
      "0s - loss: 905.3958\n",
      "Epoch 179/200\n",
      "0s - loss: 887.8588\n",
      "Epoch 180/200\n",
      "0s - loss: 863.1712\n",
      "Epoch 181/200\n",
      "0s - loss: 888.9651\n",
      "Epoch 182/200\n",
      "0s - loss: 951.2422\n",
      "Epoch 183/200\n",
      "0s - loss: 879.1412\n",
      "Epoch 184/200\n",
      "0s - loss: 883.1635\n",
      "Epoch 185/200\n",
      "0s - loss: 852.1063\n",
      "Epoch 186/200\n",
      "0s - loss: 929.0227\n",
      "Epoch 187/200\n",
      "0s - loss: 882.0772\n",
      "Epoch 188/200\n",
      "0s - loss: 859.5526\n",
      "Epoch 189/200\n",
      "0s - loss: 849.2541\n",
      "Epoch 190/200\n",
      "0s - loss: 933.9270\n",
      "Epoch 191/200\n",
      "0s - loss: 885.6553\n",
      "Epoch 192/200\n",
      "0s - loss: 878.7449\n",
      "Epoch 193/200\n",
      "0s - loss: 883.4862\n",
      "Epoch 194/200\n",
      "0s - loss: 863.2735\n",
      "Epoch 195/200\n",
      "0s - loss: 871.0389\n",
      "Epoch 196/200\n",
      "0s - loss: 862.4061\n",
      "Epoch 197/200\n",
      "0s - loss: 888.9918\n",
      "Epoch 198/200\n",
      "0s - loss: 867.6612\n",
      "Epoch 199/200\n",
      "0s - loss: 861.5133\n",
      "Epoch 200/200\n",
      "0s - loss: 872.9284\n"
     ]
    },
    {
     "data": {
      "text/plain": [
       "<keras.callbacks.History at 0x7f3700307050>"
      ]
     },
     "execution_count": 13,
     "metadata": {},
     "output_type": "execute_result"
    }
   ],
   "source": [
    "# create and fit Multilayer Perceptron model\n",
    "model = Sequential()\n",
    "model.add(Dense(8, input_dim=look_back, activation='relu'))\n",
    "model.add(Dense(4))\n",
    "model.add(Dense(2))\n",
    "model.compile(loss='mean_squared_error', optimizer='adam')\n",
    "model.fit(trainX, trainY, nb_epoch=200, batch_size=2, verbose=2)"
   ]
  },
  {
   "cell_type": "code",
   "execution_count": 20,
   "metadata": {
    "collapsed": true
   },
   "outputs": [],
   "source": [
    "import math\n",
    "import scipy"
   ]
  },
  {
   "cell_type": "code",
   "execution_count": 21,
   "metadata": {
    "collapsed": false
   },
   "outputs": [
    {
     "name": "stdout",
     "output_type": "stream",
     "text": [
      "Train Score: 858.57 MSE (29.30 RMSE)\n",
      "Test Score: 3929.35 MSE (62.68 RMSE)\n"
     ]
    }
   ],
   "source": [
    "# Estimate model performance\n",
    "trainScore = model.evaluate(trainX, trainY, verbose=0)\n",
    "print('Train Score: %.2f MSE (%.2f RMSE)' % (trainScore, math.sqrt(trainScore)))\n",
    "testScore = model.evaluate(testX, testY, verbose=0)\n",
    "print('Test Score: %.2f MSE (%.2f RMSE)' % (testScore, math.sqrt(testScore)))"
   ]
  },
  {
   "cell_type": "code",
   "execution_count": 22,
   "metadata": {
    "collapsed": false
   },
   "outputs": [],
   "source": [
    "# generate predictions for training\n",
    "trainPredict = model.predict(trainX)\n",
    "testPredict = model.predict(testX)"
   ]
  },
  {
   "cell_type": "code",
   "execution_count": 23,
   "metadata": {
    "collapsed": false
   },
   "outputs": [
    {
     "data": {
      "text/plain": [
       "(91, 2)"
      ]
     },
     "execution_count": 23,
     "metadata": {},
     "output_type": "execute_result"
    }
   ],
   "source": [
    "trainPredict.shape"
   ]
  },
  {
   "cell_type": "code",
   "execution_count": 18,
   "metadata": {
    "collapsed": false
   },
   "outputs": [
    {
     "data": {
      "text/plain": [
       "array([[ 128.60112   ,  127.5030365 ],\n",
       "       [ 121.16256714,  122.3662262 ],\n",
       "       [ 144.46884155,  145.67802429],\n",
       "       [ 153.83178711,  152.55586243],\n",
       "       [ 148.65301514,  145.73187256],\n",
       "       [ 134.20068359,  136.12863159],\n",
       "       [ 117.48197174,  125.02223206],\n",
       "       [ 107.57904053,  117.28560638],\n",
       "       [ 128.87794495,  133.97290039],\n",
       "       [ 115.09243011,  118.12186432],\n",
       "       [ 133.24014282,  130.55085754],\n",
       "       [ 147.94125366,  145.64933777],\n",
       "       [ 133.20655823,  131.61250305],\n",
       "       [ 124.84081268,  126.8470459 ],\n",
       "       [ 162.53634644,  162.8352356 ],\n",
       "       [ 177.28924561,  173.29571533],\n",
       "       [ 169.16746521,  163.07974243],\n",
       "       [ 155.97416687,  156.57069397],\n",
       "       [ 132.16014099,  140.94410706],\n",
       "       [ 122.00797272,  133.07252502],\n",
       "       [ 156.09973145,  161.29827881],\n",
       "       [ 146.27079773,  146.75494385],\n",
       "       [ 153.46749878,  148.4803009 ],\n",
       "       [ 190.44146729,  185.3890686 ],\n",
       "       [ 155.93823242,  155.55236816],\n",
       "       [ 179.90286255,  177.54362488],\n",
       "       [ 182.06144714,  185.01272583],\n",
       "       [ 208.540802  ,  204.25027466],\n",
       "       [ 198.49177551,  196.53469849],\n",
       "       [ 180.79336548,  182.391922  ],\n",
       "       [ 158.9705658 ,  168.70957947],\n",
       "       [ 146.63790894,  159.23114014],\n",
       "       [ 179.26438904,  185.00994873],\n",
       "       [ 173.05548096,  174.36408997],\n",
       "       [ 185.02005005,  180.86897278],\n",
       "       [ 199.20149231,  196.7849884 ],\n",
       "       [ 177.20669556,  178.29798889],\n",
       "       [ 188.13659668,  189.95645142],\n",
       "       [ 233.78564453,  231.88941956],\n",
       "       [ 231.85638428,  226.17803955],\n",
       "       [ 246.60227966,  238.38374329],\n",
       "       [ 197.39144897,  202.82945251],\n",
       "       [ 191.86740112,  201.91792297],\n",
       "       [ 171.45236206,  187.85565186],\n",
       "       [ 208.3130188 ,  213.75480652],\n",
       "       [ 196.63870239,  199.19770813],\n",
       "       [ 198.03630066,  196.11599731],\n",
       "       [ 253.60714722,  248.39672852],\n",
       "       [ 231.2779541 ,  227.90809631],\n",
       "       [ 228.78259277,  225.41374207],\n",
       "       [ 251.86636353,  253.86889648],\n",
       "       [ 272.49923706,  270.818573  ],\n",
       "       [ 274.12982178,  269.90914917],\n",
       "       [ 224.99028015,  230.10623169],\n",
       "       [ 209.22628784,  222.41601562],\n",
       "       [ 189.28898621,  207.5246582 ],\n",
       "       [ 216.92102051,  226.45640564],\n",
       "       [ 205.40672302,  210.52482605],\n",
       "       [ 183.95504761,  185.28656006],\n",
       "       [ 257.63034058,  253.58398438],\n",
       "       [ 219.97061157,  220.00004578],\n",
       "       [ 239.53216553,  233.32415771],\n",
       "       [ 276.96450806,  275.06283569],\n",
       "       [ 314.03820801,  303.83300781],\n",
       "       [ 285.80523682,  279.11358643],\n",
       "       [ 249.52326965,  254.26686096],\n",
       "       [ 227.02235413,  244.44541931],\n",
       "       [ 207.10217285,  226.63197327],\n",
       "       [ 246.04821777,  254.88041687],\n",
       "       [ 246.17953491,  247.83985901],\n",
       "       [ 229.83227539,  227.54412842],\n",
       "       [ 283.42248535,  279.24502563],\n",
       "       [ 267.42504883,  266.84344482],\n",
       "       [ 271.97280884,  268.43945312],\n",
       "       [ 334.13427734,  328.84475708],\n",
       "       [ 377.8482666 ,  364.81317139],\n",
       "       [ 334.69424438,  325.40371704],\n",
       "       [ 303.00036621,  307.87365723],\n",
       "       [ 271.1423645 ,  292.39257812],\n",
       "       [ 245.56947327,  268.27322388],\n",
       "       [ 302.37515259,  312.39120483],\n",
       "       [ 283.42962646,  286.75839233],\n",
       "       [ 275.21084595,  271.2935791 ],\n",
       "       [ 335.39205933,  331.77294922],\n",
       "       [ 308.12719727,  307.95443726],\n",
       "       [ 322.13262939,  318.28839111],\n",
       "       [ 396.62258911,  390.41610718],\n",
       "       [ 421.24285889,  408.22207642],\n",
       "       [ 397.19464111,  386.37487793],\n",
       "       [ 339.15286255,  348.23950195],\n",
       "       [ 309.01098633,  332.47747803]], dtype=float32)"
      ]
     },
     "execution_count": 18,
     "metadata": {},
     "output_type": "execute_result"
    }
   ],
   "source": [
    "trainPredict"
   ]
  },
  {
   "cell_type": "code",
   "execution_count": 33,
   "metadata": {
    "collapsed": false,
    "scrolled": false
   },
   "outputs": [
    {
     "data": {
      "text/plain": [
       "array([ 129.62536621,  124.66861725,  134.35797119,  145.30781555,\n",
       "        146.38002014,  141.05682373,  130.05825806,  117.12780762,\n",
       "        120.84968567,  119.32225037,  122.49796295,  137.03250122,\n",
       "        135.7557373 ,  129.76350403,  145.5708313 ,  163.28256226,\n",
       "        165.51559448,  161.82559204,  147.24862671,  130.02182007,\n",
       "        140.61952209,  145.43148804,  145.56973267,  168.96826172,\n",
       "        166.51501465,  169.08383179,  180.36172485,  191.9619751 ,\n",
       "        198.12001038,  189.24249268,  175.89129639,  161.29554749,\n",
       "        168.15252686,  172.10861206,  175.46643066,  189.19720459,\n",
       "        185.20872498,  185.13388062,  210.32017517,  223.40235901,\n",
       "        233.12921143,  221.09941101,  204.33175659,  191.37521362,\n",
       "        195.43222046,  198.74746704,  195.16711426,  224.36341858,\n",
       "        232.97247314,  227.97782898,  242.82263184,  259.13259888,\n",
       "        267.38909912,  249.14271545,  228.63511658,  205.6558075 ,\n",
       "        206.25224304,  208.80815125,  193.19009399,  223.04216003,\n",
       "        229.37026978,  227.91506958,  257.18563843,  286.15841675,\n",
       "        289.45336914,  270.57540894,  251.30200195,  227.44955444,\n",
       "        232.58944702,  241.70249939,  233.50752258,  257.38497925,\n",
       "        268.79153442,  267.37573242,  302.14352417,  343.35827637,\n",
       "        342.57977295,  323.7713623 ,  301.44503784,  267.44314575,\n",
       "        279.61422729,  286.44900513,  275.57632446,  306.60021973,\n",
       "        314.2237854 ,  314.21646118,  358.05352783,  394.2064209 ,\n",
       "        397.34365845,  373.33721924,  338.69473267], dtype=float32)"
      ]
     },
     "execution_count": 33,
     "metadata": {},
     "output_type": "execute_result"
    }
   ],
   "source": [
    "trainPredict[:,0]"
   ]
  },
  {
   "cell_type": "code",
   "execution_count": 25,
   "metadata": {
    "collapsed": false
   },
   "outputs": [
    {
     "data": {
      "text/plain": [
       "(91, 1)"
      ]
     },
     "execution_count": 25,
     "metadata": {},
     "output_type": "execute_result"
    }
   ],
   "source": [
    "trainPredict1 =trainPredict[:,0]\n",
    "trainPredict11 = trainPredict1.reshape(91,1)\n",
    "trainPredict11.shape"
   ]
  },
  {
   "cell_type": "code",
   "execution_count": 26,
   "metadata": {
    "collapsed": false
   },
   "outputs": [
    {
     "data": {
      "text/plain": [
       "(91, 1)"
      ]
     },
     "execution_count": 26,
     "metadata": {},
     "output_type": "execute_result"
    }
   ],
   "source": [
    "trainPredict2 =trainPredict[:,1]\n",
    "trainPredict12 = trainPredict2.reshape(91,1)\n",
    "trainPredict12.shape"
   ]
  },
  {
   "cell_type": "code",
   "execution_count": 27,
   "metadata": {
    "collapsed": false
   },
   "outputs": [],
   "source": [
    "# shift train predictions for plotting\n",
    "trainPredictPlot1 = numpy.empty_like(dataset)\n",
    "trainPredictPlot1[:, :] = numpy.nan\n",
    "trainPredictPlot1[look_back:len(trainPredict)+look_back, :] = trainPredict11\n",
    "\n",
    "#shift train t+2 predictions for plotting\n",
    "trainPredictPlot2 = numpy.empty_like(dataset)\n",
    "trainPredictPlot2[:, :] = numpy.nan\n",
    "trainPredictPlot2[look_back:len(trainPredict)+look_back, :] = trainPredict12\n",
    "\n",
    "\n"
   ]
  },
  {
   "cell_type": "code",
   "execution_count": 28,
   "metadata": {
    "collapsed": false
   },
   "outputs": [
    {
     "data": {
      "text/plain": [
       "(43, 2)"
      ]
     },
     "execution_count": 28,
     "metadata": {},
     "output_type": "execute_result"
    }
   ],
   "source": [
    "testPredict.shape"
   ]
  },
  {
   "cell_type": "code",
   "execution_count": 29,
   "metadata": {
    "collapsed": false
   },
   "outputs": [],
   "source": [
    "testPredict1 =testPredict[:,0]\n",
    "testPredict11 = testPredict1.reshape(43,1)\n",
    "testPredict2 =testPredict[:,1]\n",
    "testPredict12 = testPredict2.reshape(43,1)"
   ]
  },
  {
   "cell_type": "code",
   "execution_count": 30,
   "metadata": {
    "collapsed": false
   },
   "outputs": [],
   "source": [
    "# shift test predictions for plotting\n",
    "testPredictPlot1 = numpy.empty_like(dataset)\n",
    "testPredictPlot1[:, :] = numpy.nan\n",
    "testPredictPlot1[len(trainPredict)+(look_back*2)+1:len(dataset)-1, :] = testPredict11\n",
    "\n",
    "# shift test predictions for plotting\n",
    "testPredictPlot2 = numpy.empty_like(dataset)\n",
    "testPredictPlot2[:, :] = numpy.nan\n",
    "testPredictPlot2[len(trainPredict)+(look_back*2)+1:len(dataset)-1, :] = testPredict12\n",
    "\n"
   ]
  },
  {
   "cell_type": "code",
   "execution_count": 31,
   "metadata": {
    "collapsed": false
   },
   "outputs": [
    {
     "data": {
      "image/png": "[encoded data removed]",
      "text/plain": [
       "<matplotlib.figure.Figure at 0x7f37002f9a90>"
      ]
     },
     "metadata": {},
     "output_type": "display_data"
    }
   ],
   "source": [
    "# plot baseline and predictions\n",
    "plt.plot(dataset)\n",
    "plt.plot(trainPredictPlot1)\n",
    "plt.plot(trainPredictPlot2)\n",
    "plt.plot(testPredictPlot1)\n",
    "plt.plot(testPredictPlot2)\n",
    "plt.show()"
   ]
  },
  {
   "cell_type": "code",
   "execution_count": null,
   "metadata": {
    "collapsed": true
   },
   "outputs": [],
   "source": []
  }
 ],
 "metadata": {
  "kernelspec": {
   "display_name": "Python 2",
   "language": "python",
   "name": "python2"
  },
  "language_info": {
   "codemirror_mode": {
    "name": "ipython",
    "version": 2
   },
   "file_extension": ".py",
   "mimetype": "text/x-python",
   "name": "python",
   "nbconvert_exporter": "python",
   "pygments_lexer": "ipython2",
   "version": "2.7.6"
  }
 },
 "nbformat": 4,
 "nbformat_minor": 1
}
